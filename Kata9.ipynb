{
 "cells": [
  {
   "cell_type": "markdown",
   "metadata": {},
   "source": [
    "Ejercicio 1: Trabajar con argumentos en funciones"
   ]
  },
  {
   "cell_type": "code",
   "execution_count": 5,
   "metadata": {},
   "outputs": [],
   "source": [
    "def tanques(tanque1, tanque2, tanque3):\n",
    "    total_average = (tanque1 + tanque2 + tanque3) / 3\n",
    "    return f\"\"\"Reporte:\n",
    "    Promedio Ttoal: {total_average}\n",
    "    tamque principal: {tanque1}\n",
    "    tanque externo: {tanque2}\n",
    "    tanque de hidrogeno: {tanque3}\n",
    "    \"\"\""
   ]
  },
  {
   "cell_type": "code",
   "execution_count": 11,
   "metadata": {},
   "outputs": [
    {
     "data": {
      "text/plain": [
       "'Reporte:\\n    Promedio Ttoal: 148.33333333333334\\n    tamque principal: 200\\n    tanque externo: 34\\n    tanque de hidrogeno: 211\\n    '"
      ]
     },
     "execution_count": 11,
     "metadata": {},
     "output_type": "execute_result"
    }
   ],
   "source": [
    "tanques(200,34,211)"
   ]
  },
  {
   "cell_type": "code",
   "execution_count": 7,
   "metadata": {},
   "outputs": [],
   "source": [
    "def promedio(values):\n",
    "    total = sum(values)\n",
    "    numeroItems = len(values)\n",
    "    return total / numeroItems"
   ]
  },
  {
   "cell_type": "code",
   "execution_count": 9,
   "metadata": {},
   "outputs": [
    {
     "data": {
      "text/plain": [
       "2718.6666666666665"
      ]
     },
     "execution_count": 9,
     "metadata": {},
     "output_type": "execute_result"
    }
   ],
   "source": [
    "promedio([32, 12,8112]) "
   ]
  },
  {
   "cell_type": "code",
   "execution_count": 10,
   "metadata": {},
   "outputs": [],
   "source": [
    "def tanques(tanque1, tanque2, tanque3):\n",
    "    total_average = (tanque1 + tanque2 + tanque3) / 3\n",
    "    return f\"\"\"Reporte:\n",
    "    Promedio Ttoal: {promedio([tanque1,tanque2,tanque3])}\n",
    "    tamque principal: {tanque1}\n",
    "    tanque externo: {tanque2}\n",
    "    tanque de hidrogeno: {tanque3}\n",
    "    \"\"\""
   ]
  },
  {
   "cell_type": "code",
   "execution_count": 12,
   "metadata": {},
   "outputs": [
    {
     "data": {
      "text/plain": [
       "'Reporte:\\n    Promedio Ttoal: 497.0\\n    tamque principal: 256\\n    tanque externo: 1024\\n    tanque de hidrogeno: 211\\n    '"
      ]
     },
     "execution_count": 12,
     "metadata": {},
     "output_type": "execute_result"
    }
   ],
   "source": [
    "tanques(256,1024,211)"
   ]
  },
  {
   "cell_type": "markdown",
   "metadata": {},
   "source": [
    "Ejercicio : Trabajar con argumentos de palabras clave en funciones"
   ]
  },
  {
   "cell_type": "code",
   "execution_count": 13,
   "metadata": {},
   "outputs": [],
   "source": [
    "def reporte(tiempoLanzamiento, tiempoVuelo, destino, tanque2, tanque1):\n",
    "    return f\"\"\"\n",
    "    Destino : {destino}\n",
    "    Tiempo total de  tiempo: {tiempoLanzamiento + tiempoVuelo} minutos\n",
    "    Combustible restante: {tanque2 + tanque1} litros\n",
    "    \"\"\""
   ]
  },
  {
   "cell_type": "code",
   "execution_count": 14,
   "metadata": {},
   "outputs": [
    {
     "name": "stdout",
     "output_type": "stream",
     "text": [
      "\n",
      "    Destino : Marte\n",
      "    Tiempo total de  tiempo: 261 minutos\n",
      "    Combustible restante: 1349656 litros\n",
      "    \n"
     ]
    }
   ],
   "source": [
    "print(reporte(10, 251, \"Marte\", 675884, 673772))"
   ]
  },
  {
   "cell_type": "code",
   "execution_count": 31,
   "metadata": {},
   "outputs": [],
   "source": [
    "def reporte1(destino,*minutos, **combustile):\n",
    "    return f\"\"\"\n",
    "    Destino : {destino}\n",
    "    Tiempo total de  tiempo: {sum(minutos)} minutos\n",
    "    Combustible restante: {sum(combustile.values())} litros\n",
    "    \"\"\""
   ]
  },
  {
   "cell_type": "code",
   "execution_count": 32,
   "metadata": {},
   "outputs": [
    {
     "name": "stdout",
     "output_type": "stream",
     "text": [
      "\n",
      "    Destino : Luna\n",
      "    Tiempo total de  tiempo: 90 minutos\n",
      "    Combustible restante: 500 litros\n",
      "    \n"
     ]
    }
   ],
   "source": [
    "print(reporte1('Luna', 30,30,30, tanque1=200,tanque2=300))"
   ]
  },
  {
   "cell_type": "code",
   "execution_count": 36,
   "metadata": {},
   "outputs": [],
   "source": [
    "def reporte2(destino,*minutos, **combustile):\n",
    "    mision = f\"\"\"\n",
    "    Destino : {destino}\n",
    "    Tiempo total de  tiempo: {sum(minutos)} minutos\n",
    "    Combustible restante: {sum(combustile.values())} litros\n",
    "    \"\"\"\n",
    "    for nombreTanque, litros in combustile.items():\n",
    "        mision += f\"{nombreTanque} --> {litros} litros restantes\\n\"\n",
    "    return mision"
   ]
  },
  {
   "cell_type": "code",
   "execution_count": 37,
   "metadata": {},
   "outputs": [
    {
     "name": "stdout",
     "output_type": "stream",
     "text": [
      "\n",
      "    Destino : Luna\n",
      "    Tiempo total de  tiempo: 90 minutos\n",
      "    Combustible restante: 500 litros\n",
      "    tanque1 --> 200 litros restantes\n",
      "tanque2 --> 300 litros restantes\n",
      "\n"
     ]
    }
   ],
   "source": [
    "print(reporte2('Luna', 30,30,30, tanque1=200,tanque2=300))"
   ]
  }
 ],
 "metadata": {
  "interpreter": {
   "hash": "2be5faf79681da6f2a61fdfdd5405d65d042280f7fba6178067603e3a2925119"
  },
  "kernelspec": {
   "display_name": "Python 3.10.2 64-bit",
   "language": "python",
   "name": "python3"
  },
  "language_info": {
   "codemirror_mode": {
    "name": "ipython",
    "version": 3
   },
   "file_extension": ".py",
   "mimetype": "text/x-python",
   "name": "python",
   "nbconvert_exporter": "python",
   "pygments_lexer": "ipython3",
   "version": "3.10.2"
  },
  "orig_nbformat": 4
 },
 "nbformat": 4,
 "nbformat_minor": 2
}
